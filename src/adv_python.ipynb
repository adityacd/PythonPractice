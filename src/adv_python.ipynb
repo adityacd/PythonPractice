{
 "cells": [
  {
   "cell_type": "code",
   "execution_count": 2,
   "id": "890dfff8",
   "metadata": {},
   "outputs": [
    {
     "name": "stdout",
     "output_type": "stream",
     "text": [
      "Collecting pyspark\n",
      "  Downloading pyspark-3.2.1.tar.gz (281.4 MB)\n",
      "\u001b[K     |████████████████████████████████| 281.4 MB 117 kB/s eta 0:00:01     |███▋                            | 32.2 MB 10.6 MB/s eta 0:00:24     |█████▊                          | 50.1 MB 1.5 MB/s eta 0:02:30     |██████████████████████▏         | 194.8 MB 2.6 MB/s eta 0:00:34███████▊ | 270.0 MB 9.9 MB/s eta 0:00:02\n",
      "\u001b[?25hCollecting py4j==0.10.9.3\n",
      "  Downloading py4j-0.10.9.3-py2.py3-none-any.whl (198 kB)\n",
      "\u001b[K     |████████████████████████████████| 198 kB 2.9 MB/s eta 0:00:01\n",
      "\u001b[?25hBuilding wheels for collected packages: pyspark\n",
      "  Building wheel for pyspark (setup.py) ... \u001b[?25ldone\n",
      "\u001b[?25h  Created wheel for pyspark: filename=pyspark-3.2.1-py2.py3-none-any.whl size=281853642 sha256=82fd5be5091ffbb918fab4581e55c8749dbc1fd2ba43124fef0d72d85488d5ae\n",
      "  Stored in directory: /Users/adityadeshmukh/Library/Caches/pip/wheels/52/45/50/69db7b6e1da74a1b9fcc097827db9185cb8627117de852731e\n",
      "Successfully built pyspark\n",
      "Installing collected packages: py4j, pyspark\n",
      "Successfully installed py4j-0.10.9.3 pyspark-3.2.1\n"
     ]
    }
   ],
   "source": [
    "!pip install pyspark"
   ]
  },
  {
   "cell_type": "code",
   "execution_count": null,
   "id": "4ddaed22",
   "metadata": {},
   "outputs": [],
   "source": [
    "from pyspark.sql import Spark"
   ]
  },
  {
   "cell_type": "code",
   "execution_count": null,
   "id": "3632acac",
   "metadata": {},
   "outputs": [],
   "source": []
  }
 ],
 "metadata": {
  "kernelspec": {
   "display_name": "Python 3 (ipykernel)",
   "language": "python",
   "name": "python3"
  },
  "language_info": {
   "codemirror_mode": {
    "name": "ipython",
    "version": 3
   },
   "file_extension": ".py",
   "mimetype": "text/x-python",
   "name": "python",
   "nbconvert_exporter": "python",
   "pygments_lexer": "ipython3",
   "version": "3.9.7"
  }
 },
 "nbformat": 4,
 "nbformat_minor": 5
}
